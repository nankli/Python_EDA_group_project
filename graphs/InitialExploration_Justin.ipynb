{
 "cells": [
  {
   "cell_type": "markdown",
   "id": "223ff1ea",
   "metadata": {},
   "source": [
    "# Results of Initial Exploration (Justin)"
   ]
  },
  {
   "cell_type": "markdown",
   "id": "dfc4fa4c",
   "metadata": {},
   "source": [
    "### Question 1: Do countries/areas heat up evenly?"
   ]
  },
  {
   "cell_type": "markdown",
   "id": "c447a552",
   "metadata": {},
   "source": [
    "*What have been done: Analysis on the 100 major cities*\n",
    "\n",
    "Parameters:\n",
    "- Latitude\n",
    "- Percentage of water around city"
   ]
  },
  {
   "cell_type": "markdown",
   "id": "34172466",
   "metadata": {},
   "source": [
    "*Results:*\n",
    "- for Northern Hemisphere, temperature rise seems to be higher for higher latitutdes (read: colder places)\n",
    "- for Southern Hemisphere, there seems to be no relationship at all\n",
    "\n",
    "*Further question:*\n",
    "- Why the difference between Northern and Southern Hemisepheres?  Is it simply because of insufficient data points (i.e. large cities in the south)?\n",
    "- Categorize the areas into tropical, subtropic, temperate, frigid?"
   ]
  },
  {
   "cell_type": "markdown",
   "id": "363a19f6",
   "metadata": {},
   "source": [
    "<img src=\"1_BasePic_TempVsLatitude.png\" align=\"left\" width=\"600\" height=\"600\" />"
   ]
  },
  {
   "cell_type": "markdown",
   "id": "61c56856",
   "metadata": {},
   "source": [
    "*To make it easier to see, I have added a trend line:*"
   ]
  },
  {
   "cell_type": "markdown",
   "id": "64fc6f6b",
   "metadata": {},
   "source": [
    "<img src=\"2_TrendLine_TempVsLatitude.png\" align=\"left\" width=\"600\" height=\"600\" />"
   ]
  },
  {
   "cell_type": "markdown",
   "id": "229fdc5c",
   "metadata": {},
   "source": [
    "*Trend line more clear if take a cut off at latitude of 20 degrees:*\n",
    "\n",
    "(Note: tropical area usually refers to around 23°S to 23°N)"
   ]
  },
  {
   "cell_type": "markdown",
   "id": "c875b277",
   "metadata": {},
   "source": [
    "<img src=\"3_ModifiedTrendLine_TempVsLatitude.png\" align=\"left\" width=\"600\" height=\"600\" />"
   ]
  },
  {
   "cell_type": "markdown",
   "id": "65af8e27",
   "metadata": {},
   "source": [
    "*Water content seems irrelvant though:*"
   ]
  },
  {
   "cell_type": "markdown",
   "id": "0b0c78b9",
   "metadata": {},
   "source": [
    "<img src=\"4_TempVsWaterPresence.png\" align=\"left\" width=\"600\" height=\"600\" />"
   ]
  },
  {
   "cell_type": "markdown",
   "id": "03d2147a",
   "metadata": {},
   "source": [
    "### Question 2: Do different times of the year heat up evenly?"
   ]
  },
  {
   "cell_type": "markdown",
   "id": "3c1c840f",
   "metadata": {},
   "source": [
    "*What have been done: Analysis on global data\n",
    "\n",
    "Deatils:\n",
    "- 1900 to nowadays\n",
    "- 10-year averages: e.g. 1900 Jan data means average of Jan temperatures of 1896 to 1905 (i.e. in line with Berkeley Earth's data treatment)\n",
    "- Categorization by months, and then by season (12-2 as Winter, 3-5 as Spring, 6-8 as Summer, 9-11 as Fall)"
   ]
  },
  {
   "cell_type": "markdown",
   "id": "d58fe16e",
   "metadata": {},
   "source": [
    "*Results:*\n",
    "- Winter months seem to heat up more in general.  Is there a recurring theme in that colder places/time get heated up more?\n",
    "\n",
    "*Further question:*\n",
    "- Results much less obvious though, perhaps can consider using Northern Hemisphere data only?"
   ]
  },
  {
   "cell_type": "markdown",
   "id": "bff08750",
   "metadata": {},
   "source": [
    "<img src=\"5_GlobalTempChange_SelectedMonths.png\" align=\"left\" width=\"600\" height=\"600\" />"
   ]
  },
  {
   "cell_type": "markdown",
   "id": "ec7ba98c",
   "metadata": {},
   "source": [
    "*Initial attempt at using seasons: results a bit crowded*"
   ]
  },
  {
   "cell_type": "markdown",
   "id": "f22e553a",
   "metadata": {},
   "source": [
    "<img src=\"6_GlobalTempChange_Seasonal.png\" align=\"left\" width=\"600\" height=\"600\" />"
   ]
  },
  {
   "cell_type": "markdown",
   "id": "5bbb59e8",
   "metadata": {},
   "source": [
    "*What if we just compare Winter and Summer?*"
   ]
  },
  {
   "cell_type": "markdown",
   "id": "708d6587",
   "metadata": {},
   "source": [
    "<img src=\"7_GlobalTempChange_Summer_and_Winter.png\" align=\"left\" width=\"600\" height=\"600\" />"
   ]
  },
  {
   "cell_type": "code",
   "execution_count": null,
   "id": "76621a66",
   "metadata": {},
   "outputs": [],
   "source": []
  }
 ],
 "metadata": {
  "kernelspec": {
   "display_name": "Python 3",
   "language": "python",
   "name": "python3"
  },
  "language_info": {
   "codemirror_mode": {
    "name": "ipython",
    "version": 3
   },
   "file_extension": ".py",
   "mimetype": "text/x-python",
   "name": "python",
   "nbconvert_exporter": "python",
   "pygments_lexer": "ipython3",
   "version": "3.8.8"
  }
 },
 "nbformat": 4,
 "nbformat_minor": 5
}
