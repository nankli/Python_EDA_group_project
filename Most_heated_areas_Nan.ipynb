{
 "cells": [
  {
   "cell_type": "code",
   "execution_count": null,
   "id": "0e965921",
   "metadata": {},
   "outputs": [],
   "source": []
  },
  {
   "cell_type": "markdown",
   "id": "ef7c588d",
   "metadata": {},
   "source": [
    "## A.1. Find the most heated countries/areas"
   ]
  },
  {
   "cell_type": "markdown",
   "id": "7d29a5d9",
   "metadata": {},
   "source": [
    "We collected data from the Berkeley Earth data webpage (http://berkeleyearth.lbl.gov/country-list/) \n",
    "using a webscraper script. The data are saved in a csv file: country_t_incr_list.csv\n"
   ]
  },
  {
   "cell_type": "code",
   "execution_count": 4,
   "id": "59f5d337",
   "metadata": {},
   "outputs": [],
   "source": [
    "%matplotlib inline\n",
    "import pandas as pd\n",
    "import numpy as np\n",
    "import matplotlib.pyplot as plt\n",
    "import plotly.express as px\n",
    "import codes\n",
    "from codes import webscraper_country\n",
    "from codes import webscraper_country_warming\n",
    "#webscraper_country.output_country_list()\n",
    "#webscraper_country.generate_country_csv()\n",
    "#webscraper_country.generate_metadata_csv()\n",
    "webscraper_country_warming.output_country_t_incr_list()"
   ]
  },
  {
   "cell_type": "code",
   "execution_count": 5,
   "id": "2057d1b8",
   "metadata": {
    "scrolled": false
   },
   "outputs": [
    {
     "data": {
      "text/html": [
       "<div>\n",
       "<style scoped>\n",
       "    .dataframe tbody tr th:only-of-type {\n",
       "        vertical-align: middle;\n",
       "    }\n",
       "\n",
       "    .dataframe tbody tr th {\n",
       "        vertical-align: top;\n",
       "    }\n",
       "\n",
       "    .dataframe thead th {\n",
       "        text-align: right;\n",
       "    }\n",
       "</style>\n",
       "<table border=\"1\" class=\"dataframe\">\n",
       "  <thead>\n",
       "    <tr style=\"text-align: right;\">\n",
       "      <th></th>\n",
       "      <th>Country</th>\n",
       "      <th>Warming_since_1960</th>\n",
       "      <th>Warming_since_1960_uncertainty</th>\n",
       "      <th>Region</th>\n",
       "    </tr>\n",
       "  </thead>\n",
       "  <tbody>\n",
       "    <tr>\n",
       "      <th>0</th>\n",
       "      <td>afghanistan</td>\n",
       "      <td>3.32</td>\n",
       "      <td>0.34</td>\n",
       "      <td>Asia</td>\n",
       "    </tr>\n",
       "    <tr>\n",
       "      <th>1</th>\n",
       "      <td>åland</td>\n",
       "      <td>3.01</td>\n",
       "      <td>0.24</td>\n",
       "      <td>Europe</td>\n",
       "    </tr>\n",
       "    <tr>\n",
       "      <th>2</th>\n",
       "      <td>albania</td>\n",
       "      <td>1.97</td>\n",
       "      <td>0.28</td>\n",
       "      <td>Europe</td>\n",
       "    </tr>\n",
       "    <tr>\n",
       "      <th>3</th>\n",
       "      <td>algeria</td>\n",
       "      <td>2.86</td>\n",
       "      <td>0.28</td>\n",
       "      <td>Africa</td>\n",
       "    </tr>\n",
       "  </tbody>\n",
       "</table>\n",
       "</div>"
      ],
      "text/plain": [
       "       Country  Warming_since_1960  Warming_since_1960_uncertainty  Region\n",
       "0  afghanistan                3.32                            0.34    Asia\n",
       "1        åland                3.01                            0.24  Europe\n",
       "2      albania                1.97                            0.28  Europe\n",
       "3      algeria                2.86                            0.28  Africa"
      ]
     },
     "metadata": {},
     "output_type": "display_data"
    }
   ],
   "source": [
    "df = pd.read_csv('./data_files/country_t_incr_list.csv')\n",
    "display(df.head(4))"
   ]
  },
  {
   "cell_type": "code",
   "execution_count": 27,
   "id": "86dc91a1",
   "metadata": {},
   "outputs": [
    {
     "data": {
      "text/html": [
       "<div>\n",
       "<style scoped>\n",
       "    .dataframe tbody tr th:only-of-type {\n",
       "        vertical-align: middle;\n",
       "    }\n",
       "\n",
       "    .dataframe tbody tr th {\n",
       "        vertical-align: top;\n",
       "    }\n",
       "\n",
       "    .dataframe thead th {\n",
       "        text-align: right;\n",
       "    }\n",
       "</style>\n",
       "<table border=\"1\" class=\"dataframe\">\n",
       "  <thead>\n",
       "    <tr style=\"text-align: right;\">\n",
       "      <th></th>\n",
       "      <th>Warming_since_1960</th>\n",
       "      <th>Warming_since_1960_uncertainty</th>\n",
       "      <th>Region</th>\n",
       "    </tr>\n",
       "    <tr>\n",
       "      <th>Country</th>\n",
       "      <th></th>\n",
       "      <th></th>\n",
       "      <th></th>\n",
       "    </tr>\n",
       "  </thead>\n",
       "  <tbody>\n",
       "    <tr>\n",
       "      <th>Svalbard-and-jan-mayen</th>\n",
       "      <td>5.45</td>\n",
       "      <td>0.81</td>\n",
       "      <td>Europe</td>\n",
       "    </tr>\n",
       "    <tr>\n",
       "      <th>Canada</th>\n",
       "      <td>3.64</td>\n",
       "      <td>0.24</td>\n",
       "      <td>North America</td>\n",
       "    </tr>\n",
       "    <tr>\n",
       "      <th>Greenland</th>\n",
       "      <td>3.57</td>\n",
       "      <td>0.75</td>\n",
       "      <td>North America</td>\n",
       "    </tr>\n",
       "    <tr>\n",
       "      <th>Denmark</th>\n",
       "      <td>3.56</td>\n",
       "      <td>0.74</td>\n",
       "      <td>North America</td>\n",
       "    </tr>\n",
       "    <tr>\n",
       "      <th>Iran</th>\n",
       "      <td>3.52</td>\n",
       "      <td>0.37</td>\n",
       "      <td>Asia</td>\n",
       "    </tr>\n",
       "    <tr>\n",
       "      <th>Russia</th>\n",
       "      <td>3.39</td>\n",
       "      <td>0.28</td>\n",
       "      <td>Asia</td>\n",
       "    </tr>\n",
       "    <tr>\n",
       "      <th>United-arab-emirates</th>\n",
       "      <td>3.36</td>\n",
       "      <td>0.57</td>\n",
       "      <td>Asia</td>\n",
       "    </tr>\n",
       "    <tr>\n",
       "      <th>Afghanistan</th>\n",
       "      <td>3.32</td>\n",
       "      <td>0.34</td>\n",
       "      <td>Asia</td>\n",
       "    </tr>\n",
       "    <tr>\n",
       "      <th>Qatar</th>\n",
       "      <td>3.30</td>\n",
       "      <td>0.49</td>\n",
       "      <td>Asia</td>\n",
       "    </tr>\n",
       "    <tr>\n",
       "      <th>Turkmenistan</th>\n",
       "      <td>3.19</td>\n",
       "      <td>0.26</td>\n",
       "      <td>Asia</td>\n",
       "    </tr>\n",
       "  </tbody>\n",
       "</table>\n",
       "</div>"
      ],
      "text/plain": [
       "                        Warming_since_1960  Warming_since_1960_uncertainty  \\\n",
       "Country                                                                      \n",
       "Svalbard-and-jan-mayen                5.45                            0.81   \n",
       "Canada                                3.64                            0.24   \n",
       "Greenland                             3.57                            0.75   \n",
       "Denmark                               3.56                            0.74   \n",
       "Iran                                  3.52                            0.37   \n",
       "Russia                                3.39                            0.28   \n",
       "United-arab-emirates                  3.36                            0.57   \n",
       "Afghanistan                           3.32                            0.34   \n",
       "Qatar                                 3.30                            0.49   \n",
       "Turkmenistan                          3.19                            0.26   \n",
       "\n",
       "                               Region  \n",
       "Country                                \n",
       "Svalbard-and-jan-mayen         Europe  \n",
       "Canada                  North America  \n",
       "Greenland               North America  \n",
       "Denmark                 North America  \n",
       "Iran                             Asia  \n",
       "Russia                           Asia  \n",
       "United-arab-emirates             Asia  \n",
       "Afghanistan                      Asia  \n",
       "Qatar                            Asia  \n",
       "Turkmenistan                     Asia  "
      ]
     },
     "metadata": {},
     "output_type": "display_data"
    }
   ],
   "source": [
    "df['Country']=df['Country'].str.capitalize() \n",
    "df_warm = df.copy().set_index('Country')\n",
    "df_warm = df_warm.sort_values(by=['Warming_since_1960'], ascending = False).head(10)\n",
    "display(df_warm)"
   ]
  },
  {
   "cell_type": "markdown",
   "id": "0074aa90",
   "metadata": {},
   "source": [
    "The above table shows the most heated countries since 1960. This list contains one country in Europe, three countries in North America, and six countries in Asia."
   ]
  },
  {
   "cell_type": "code",
   "execution_count": 28,
   "id": "5a89391a",
   "metadata": {},
   "outputs": [
    {
     "data": {
      "image/png": "[encoded data removed]",
      "text/plain": [
       "<Figure size 432x288 with 1 Axes>"
      ]
     },
     "metadata": {
      "needs_background": "light"
     },
     "output_type": "display_data"
    }
   ],
   "source": [
    "df_warm.plot(kind='bar', yerr='Warming_since_1960_uncertainty')\n",
    "plt.ylabel('Warming since 1960 (°C / century)')\n",
    "plt.title('The top-ten most heated countries since 1960')\n",
    "#plt.xticks(rotation = -50)\n",
    "plt.gca().set_aspect(0.8)\n",
    "fig.autofmt_xdate()\n",
    "#plt.tight_layout()\n",
    "plt.savefig('The most heated countries.png',bbox_inches = \"tight\")"
   ]
  },
  {
   "cell_type": "markdown",
   "id": "2ec6404e",
   "metadata": {},
   "source": [
    "The table below shows the least heated countries since 1960. Even for those countries, their temperatures have increased at least 0.65 °C/century, which means global warming is happening all across the world."
   ]
  },
  {
   "cell_type": "code",
   "execution_count": 29,
   "id": "cb797ff4",
   "metadata": {},
   "outputs": [
    {
     "data": {
      "text/html": [
       "<div>\n",
       "<style scoped>\n",
       "    .dataframe tbody tr th:only-of-type {\n",
       "        vertical-align: middle;\n",
       "    }\n",
       "\n",
       "    .dataframe tbody tr th {\n",
       "        vertical-align: top;\n",
       "    }\n",
       "\n",
       "    .dataframe thead th {\n",
       "        text-align: right;\n",
       "    }\n",
       "</style>\n",
       "<table border=\"1\" class=\"dataframe\">\n",
       "  <thead>\n",
       "    <tr style=\"text-align: right;\">\n",
       "      <th></th>\n",
       "      <th>Warming_since_1960</th>\n",
       "      <th>Warming_since_1960_uncertainty</th>\n",
       "      <th>Region</th>\n",
       "    </tr>\n",
       "    <tr>\n",
       "      <th>Country</th>\n",
       "      <th></th>\n",
       "      <th></th>\n",
       "      <th></th>\n",
       "    </tr>\n",
       "  </thead>\n",
       "  <tbody>\n",
       "    <tr>\n",
       "      <th>Bolivia</th>\n",
       "      <td>0.65</td>\n",
       "      <td>0.29</td>\n",
       "      <td>South America</td>\n",
       "    </tr>\n",
       "    <tr>\n",
       "      <th>Macau</th>\n",
       "      <td>0.79</td>\n",
       "      <td>0.29</td>\n",
       "      <td>Asia</td>\n",
       "    </tr>\n",
       "    <tr>\n",
       "      <th>Hong-kong</th>\n",
       "      <td>0.83</td>\n",
       "      <td>0.27</td>\n",
       "      <td>Asia</td>\n",
       "    </tr>\n",
       "    <tr>\n",
       "      <th>Bangladesh</th>\n",
       "      <td>0.90</td>\n",
       "      <td>0.41</td>\n",
       "      <td>Asia</td>\n",
       "    </tr>\n",
       "    <tr>\n",
       "      <th>Timor-leste</th>\n",
       "      <td>0.90</td>\n",
       "      <td>0.41</td>\n",
       "      <td>Asia</td>\n",
       "    </tr>\n",
       "    <tr>\n",
       "      <th>Vietnam</th>\n",
       "      <td>0.91</td>\n",
       "      <td>0.27</td>\n",
       "      <td>Asia</td>\n",
       "    </tr>\n",
       "    <tr>\n",
       "      <th>Palau</th>\n",
       "      <td>0.91</td>\n",
       "      <td>0.27</td>\n",
       "      <td>NaN</td>\n",
       "    </tr>\n",
       "    <tr>\n",
       "      <th>Peru</th>\n",
       "      <td>0.95</td>\n",
       "      <td>0.34</td>\n",
       "      <td>South America</td>\n",
       "    </tr>\n",
       "    <tr>\n",
       "      <th>Laos</th>\n",
       "      <td>0.96</td>\n",
       "      <td>0.28</td>\n",
       "      <td>Asia</td>\n",
       "    </tr>\n",
       "    <tr>\n",
       "      <th>Chile</th>\n",
       "      <td>0.96</td>\n",
       "      <td>0.37</td>\n",
       "      <td>South America</td>\n",
       "    </tr>\n",
       "  </tbody>\n",
       "</table>\n",
       "</div>"
      ],
      "text/plain": [
       "             Warming_since_1960  Warming_since_1960_uncertainty         Region\n",
       "Country                                                                       \n",
       "Bolivia                    0.65                            0.29  South America\n",
       "Macau                      0.79                            0.29           Asia\n",
       "Hong-kong                  0.83                            0.27           Asia\n",
       "Bangladesh                 0.90                            0.41           Asia\n",
       "Timor-leste                0.90                            0.41           Asia\n",
       "Vietnam                    0.91                            0.27           Asia\n",
       "Palau                      0.91                            0.27            NaN\n",
       "Peru                       0.95                            0.34  South America\n",
       "Laos                       0.96                            0.28           Asia\n",
       "Chile                      0.96                            0.37  South America"
      ]
     },
     "metadata": {},
     "output_type": "display_data"
    }
   ],
   "source": [
    "df_warm2 = df.copy().set_index('Country')\n",
    "df_warm2 = df_warm2.sort_values(by=['Warming_since_1960'], ascending = True).head(10)\n",
    "display(df_warm2)"
   ]
  },
  {
   "cell_type": "markdown",
   "id": "3d48928a",
   "metadata": {},
   "source": [
    "## A.2. Analysis of the time series data for the most heated countries"
   ]
  },
  {
   "cell_type": "markdown",
   "id": "58085dc7",
   "metadata": {},
   "source": [
    "Next, we conducted a detailed analysis of the time series data for the top 5 most heated countries. Our research focused on the temperature variation, heating rate, etc....."
   ]
  },
  {
   "cell_type": "code",
   "execution_count": null,
   "id": "505d7856",
   "metadata": {},
   "outputs": [],
   "source": []
  }
 ],
 "metadata": {
  "kernelspec": {
   "display_name": "Python 3",
   "language": "python",
   "name": "python3"
  },
  "language_info": {
   "codemirror_mode": {
    "name": "ipython",
    "version": 3
   },
   "file_extension": ".py",
   "mimetype": "text/x-python",
   "name": "python",
   "nbconvert_exporter": "python",
   "pygments_lexer": "ipython3",
   "version": "3.8.8"
  }
 },
 "nbformat": 4,
 "nbformat_minor": 5
}
