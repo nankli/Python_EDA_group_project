{
 "cells": [
  {
   "cell_type": "markdown",
   "id": "ffaafdfe",
   "metadata": {},
   "source": [
    "## Historical Emissions Descriptive Data Analysis\n",
    "Tiffany Smalley - W200 Fall 2021\n",
    "\n",
    "This notebook explores the ClimateWatch Global Historical emissions data and makes comparisons to global warming trends explored in other parts of this project.\n",
    "\n",
    "Data Source: \n",
    "ClimateWatchData - Global Historical Emissions\n",
    "Source: https://www.climatewatchdata.org/ghg-emissions?end_year=2018&start_year=1990\n",
    "About ClimateWatch: https://www.climatewatchdata.org/about/description"
   ]
  },
  {
   "cell_type": "code",
   "execution_count": null,
   "id": "1b00be6e",
   "metadata": {},
   "outputs": [],
   "source": [
    "import csv\n",
    "import re\n",
    "import pickle\n",
    "import pandas as pd\n",
    "import numpy as np\n",
    "import matplotlib.pyplot as plt\n",
    "import matplotlib as mpl\n",
    "import seaborn as sns\n",
    "from scipy import stats\n",
    "import geopandas as gpd\n",
    "from mpl_toolkits.axes_grid1 import make_axes_locatable\n",
    "from splot.mapping import vba_choropleth\n",
    "\n",
    "mpl.rcParams.update(mpl.rcParamsDefault)\n",
    "\n",
    "#Read in file, set first column (countries) as the index\n",
    "fileIn = pd.read_csv('./data_files/ghg-emissions-pik.csv', index_col=0)\n",
    "ems = pd.DataFrame(fileIn)\n",
    "\n",
    "#remove false values\n",
    "ems = ems.replace(to_replace = \"FALSE\", value=0)"
   ]
  },
  {
   "cell_type": "markdown",
   "id": "fa766c09",
   "metadata": {},
   "source": [
    "## Total Greenhouse Gas Emissions - historical view all GHG emissions globally"
   ]
  },
  {
   "cell_type": "code",
   "execution_count": null,
   "id": "6c581303",
   "metadata": {},
   "outputs": [],
   "source": [
    "#add column for total emissions (by country) 1990 - 2018\n",
    "ems['Country_Total'] = ems.sum(numeric_only=True, axis=1)\n",
    "ems = ems.sort_values('Country_Total', axis=0)\n",
    "\n",
    "#sum of each column\n",
    "yT = pd.DataFrame(ems.sum())\n",
    "yrTotals = yT.drop(labels=['Country_Total'], axis=0)\n",
    "\n",
    "yrTotals.columns = ['total']\n",
    "yrTotals.plot(title='Greenhouse Gas Emissions - Globally 1850-2018', xlabel='Year', ylabel='Global Emissions (MtCO2e)')\n",
    "\n",
    "yrTotals"
   ]
  },
  {
   "cell_type": "markdown",
   "id": "8a2b6e8c",
   "metadata": {},
   "source": [
    "## GHG Emissions Inflection Point"
   ]
  },
  {
   "cell_type": "code",
   "execution_count": null,
   "id": "2d5699e6",
   "metadata": {},
   "outputs": [],
   "source": [
    "#Prepare data - decade by decade view\n",
    "decTotals = yrTotals.reset_index()\n",
    "decTotals.columns = ['year', 'total']\n",
    "\n",
    "#group every 10 years\n",
    "decTotals = decTotals.groupby(decTotals.index//10).sum()\n",
    "\n",
    "#add decade as index\n",
    "decs = list(range(1850,2018,10))\n",
    "decTotals.insert(0, \"decade\", decs, True)\n",
    "\n",
    "pctChgD = decTotals[\"total\"].pct_change()\n",
    "decTotals.insert(2, \"% change\", pctChgD, True)"
   ]
  },
  {
   "cell_type": "code",
   "execution_count": null,
   "id": "47d33b7b",
   "metadata": {},
   "outputs": [],
   "source": [
    "#plots to show general trend shift\n",
    "print(decTotals)\n",
    "plt.plot(decs, decTotals[\"total\"], marker='o')"
   ]
  },
  {
   "cell_type": "code",
   "execution_count": null,
   "id": "8182fc1d",
   "metadata": {},
   "outputs": [],
   "source": [
    "dec_1h = decTotals.iloc[:9,:]\n",
    "dec_2h = decTotals.iloc[9:,:]\n",
    "\n",
    "#make the break at 1960\n",
    "\n",
    "slope, intercept, r_value, p_value, std_err = stats.linregress(dec_1h[\"decade\"], dec_1h[\"total\"])\n",
    "\n",
    "ax1 = sns.regplot(dec_1h[\"decade\"], dec_1h[\"total\"], data = dec_1h, line_kws={'label':\"y={0:.1f}x+{1:.1f}\".format(slope,intercept)})\n",
    "ax2 = sns.regplot(dec_2h[\"decade\"], dec_2h[\"total\"], data = dec_2h, line_kws={'label':\"y={0:.1f}x+{1:.1f}\".format(slope,intercept)}).set(title='GHG Emissions Inflection Point')\n",
    "\n",
    "# ax1.legend() no regression line equations available in seaborn\n",
    "# ax2.legend()\n",
    "\n",
    "plt.show()"
   ]
  },
  {
   "cell_type": "markdown",
   "id": "3d5d8dee",
   "metadata": {},
   "source": [
    "## Total Greenhouse Gases - Map View"
   ]
  },
  {
   "cell_type": "code",
   "execution_count": null,
   "id": "06954099",
   "metadata": {},
   "outputs": [],
   "source": [
    "map_df = ems[[\"Country_Total\"]]\n",
    "map_df = map_df.reset_index()\n",
    "world = gpd.read_file(gpd.datasets.get_path('naturalearth_lowres'))\n",
    "\n",
    "world.at[4,'name'] = \"United States\"\n",
    "map_df['Country/Region'] = map_df['Country/Region'].replace(['Republic of Congo'], 'Dem. Rep. Congo')\n",
    "map_df['Country/Region'] = map_df['Country/Region'].replace(['Antarctica'], 'N/A')\n",
    "map_df['Country/Region'] = map_df['Country/Region'].replace(['Central African Republic'], 'Central African Rep.')\n",
    "map_df['Country/Region'] = map_df['Country/Region'].replace(['Taiwan, Republic of China'], 'Taiwan')\n",
    "map_df['Country/Region'] = map_df['Country/Region'].replace(['Czech Republic'], 'Czechia')\n",
    "map_df['Country/Region'] = map_df['Country/Region'].replace(['South Sudan'], 'S. Sudan')\n",
    "map_df['Country/Region'] = map_df['Country/Region'].replace(['Dominican Republic'], 'Dominican Rep.')\n",
    "\n",
    "#world=world[(world.name !=\"Antarctica\")]\n",
    "\n",
    "match_world = []\n",
    "mismatch_world = []\n",
    "for x in list(map_df['Country/Region']):\n",
    "    if x in list(world['name']):\n",
    "        match_world.append(x)\n",
    "    else: \n",
    "        mismatch_world.append(x)\n",
    "        \n",
    "world_df = pd.concat([world.set_index('name'),map_df.set_index('Country/Region')], axis=1, join='inner').reset_index()\n",
    "world_df = world_df.rename(columns={\"index\":\"country\"})\n",
    "#world = world[(world.Country_Total) & (world.index!=\"\")] #only if specifying conditions for the map\n",
    "\n",
    "#suggestions:\n",
    "#drop antarctica \n",
    "#grey color as background \n",
    "\n",
    "fig_e,ax_e = plt.subplots(1,1)\n",
    "divider = make_axes_locatable(ax_e)\n",
    "cax = divider.append_axes(\"right\", size=\"3%\", pad=0.1)\n",
    "world_df.plot(column='Country_Total', ax=ax_e, legend=True, legend_kwds={'label': \"MtCO2e\", \"fmt\": \"{:.0f}\"}, cax=cax, cmap='Blues', edgecolor='grey', missing_kwds={\n",
    "        \"color\": \"white\"})\n",
    "ax_e.set_title('Global GHG Emissions by Country 1850-2018 (MtCO2e)')\n",
    "ax_e.patch.set_facecolor('lightgrey')\n",
    "fig_e.set_size_inches(15, 30)\n",
    "plt.show()\n"
   ]
  },
  {
   "cell_type": "markdown",
   "id": "cbe10743",
   "metadata": {},
   "source": [
    "## Total Greenhouse Gases - Top 10 Countries"
   ]
  },
  {
   "cell_type": "code",
   "execution_count": null,
   "id": "de3a1bea",
   "metadata": {},
   "outputs": [],
   "source": [
    "#get the top 10 countries (total emissions over this time period)\n",
    "emsTop10 = ems.nlargest(10,['Country_Total'])"
   ]
  },
  {
   "cell_type": "code",
   "execution_count": null,
   "id": "00282820",
   "metadata": {},
   "outputs": [],
   "source": [
    "#plot totals over time\n",
    "ems10T = emsTop10.T\n",
    "ems10T.iloc[:-1].plot(title='Historical Emissions by Country, 1850-2018', xlabel='Year', ylabel='Global Emissions (MtCO2e)')#top10 = list(ems10T.columns)\n",
    "\n"
   ]
  },
  {
   "cell_type": "code",
   "execution_count": null,
   "id": "0f32ea54",
   "metadata": {},
   "outputs": [],
   "source": [
    "#YoY % fluctuations\n",
    "top10= list(ems10T.columns)\n",
    "#drop the country totals, get percent change YoY for top 10\n",
    "pct = ems10T.drop('Country_Total')\n",
    "pctChg = pct.pct_change()\n",
    "\n",
    "pctChgTop10 = pctChg[top10]\n",
    "pctChgTop10.style.format(\"{:.2%}\")"
   ]
  },
  {
   "cell_type": "markdown",
   "id": "2eb67152",
   "metadata": {},
   "source": [
    "## Comparisons with Warming Data"
   ]
  },
  {
   "cell_type": "code",
   "execution_count": null,
   "id": "e0051ef2",
   "metadata": {},
   "outputs": [],
   "source": [
    "#First exploring for data discrepancies between country names\n",
    "#Identify any discrepancies as concatenate will just drop mismatches\n",
    "\n",
    "#Load \n",
    "wdf = pd.read_csv('./data_files/country_t_incr_list.csv') #reminder: update to relative path in dir\n",
    "\n",
    "debug = 1\n",
    "\n",
    "#list of GHG countries\n",
    "countries_GHG = ems.index.tolist()\n",
    "countries_warm = wdf[\"Country\"].tolist()\n",
    "\n",
    "#lowercase\n",
    "countries_GHG_lc = (map(lambda x: x.lower(), countries_GHG))\n",
    "\n",
    "#formatting\n",
    "#removing \"-\" from countries list (warming data) to compare to GHG data\n",
    "rp = lambda x: x.replace(\" \",\"-\")\n",
    "countries_GHG_lc = list(map(rp, countries_GHG_lc))\n",
    "\n",
    "#address country discrepancies between data sets\n",
    "rp_congo = lambda x: x.replace(\"democratic-republic-of-the-congo\",\"congo-(democratic-republic-of-the)\")\n",
    "rp_hk = lambda y: y.replace('hong-kong,-special-administrative-region-of-china',\"hong-kong\")\n",
    "rp_macau = lambda z: z.replace('macao,-special-administrative-region-of-china',\"macau\")\n",
    "rp_tc = lambda t: t.replace('turks-and-caicos-islands','turks-and-caicas-islands')\n",
    "rp_tw = lambda tw: tw.replace('taiwan,-republic-of-china','taiwan')\n",
    "rp_mym = lambda m: m.replace('myanmar','burma')\n",
    "countries_GHG_lc = list(map(rp_congo, countries_GHG_lc))\n",
    "countries_GHG_lc = list(map(rp_hk, countries_GHG_lc))\n",
    "countries_GHG_lc = list(map(rp_macau, countries_GHG_lc))\n",
    "countries_GHG_lc = list(map(rp_tc, countries_GHG_lc))\n",
    "countries_GHG_lc = list(map(rp_tw, countries_GHG_lc))\n",
    "countries_GHG_lc = list(map(rp_mym, countries_GHG_lc))\n",
    "\n",
    "match = []\n",
    "mismatch = []\n",
    "\n",
    "for ct in countries_GHG_lc:\n",
    "    if ct in countries_warm:\n",
    "        match.append(ct)\n",
    "    else: \n",
    "        mismatch.append(ct)"
   ]
  },
  {
   "cell_type": "code",
   "execution_count": null,
   "id": "ffea1827",
   "metadata": {
    "scrolled": false
   },
   "outputs": [],
   "source": [
    "#merge dataframes\n",
    "\n",
    "world_bivar = world_df[[\"country\", \"geometry\", \"Country_Total\"]]\n",
    "\n",
    "#better way to do this?\n",
    "world_bivar[\"country\"] = world_bivar[\"country\"].str.lower()\n",
    "world_bivar[\"country\"] = world_bivar[\"country\"].map(rp)\n",
    "wdf = wdf.rename(columns={'Country':'country'})\n",
    "\n",
    "wb = world_bivar.merge(wdf, on='country')\n",
    "\n",
    "#print(wb.Country_Total.max(), wb.Country_Total.min(), wb.Warming_since_1960.max(), wb.Warming_since_1960.min())\n",
    "\n",
    "world_bivar"
   ]
  },
  {
   "cell_type": "code",
   "execution_count": null,
   "id": "6be05e22",
   "metadata": {
    "scrolled": true
   },
   "outputs": [],
   "source": [
    "#plt.style.use('ggplot')\n",
    "fig, ax = plt.subplots(figsize=(20,15))\n",
    "vba_choropleth(\n",
    "    wb['Warming_since_1960'].values, \n",
    "    wb['Country_Total'].values, \n",
    "    wb, \n",
    "    rgb_mapclassify=dict(classifier='percentiles'),\n",
    "    alpha_mapclassify=dict(classifier='percentiles'),\n",
    "    cmap='RdBu_r',\n",
    "    ax=ax,\n",
    "    revert_alpha=False,\n",
    "    legend=True)\n",
    "ax.set_title('GHG Emissions and The Burden of Global Warming', fontdict={'size': 20})\n",
    "ax.patch.set_facecolor('lightgrey')\n",
    "\n",
    "plt.show()\n",
    "\n",
    "#print(plt.style.available)"
   ]
  }
 ],
 "metadata": {
  "kernelspec": {
   "display_name": "Python 3",
   "language": "python",
   "name": "python3"
  },
  "language_info": {
   "codemirror_mode": {
    "name": "ipython",
    "version": 3
   },
   "file_extension": ".py",
   "mimetype": "text/x-python",
   "name": "python",
   "nbconvert_exporter": "python",
   "pygments_lexer": "ipython3",
   "version": "3.8.8"
  }
 },
 "nbformat": 4,
 "nbformat_minor": 5
}
